{
 "cells": [
  {
   "cell_type": "code",
   "execution_count": 1,
   "id": "55e90e54-1431-4879-a26f-ac48675c077b",
   "metadata": {
    "execution": {
     "iopub.execute_input": "2021-06-26T10:20:02.901913Z",
     "iopub.status.busy": "2021-06-26T10:20:02.900683Z",
     "iopub.status.idle": "2021-06-26T10:20:02.916823Z",
     "shell.execute_reply": "2021-06-26T10:20:02.916151Z"
    },
    "papermill": {
     "duration": 0.034596,
     "end_time": "2021-06-26T10:20:02.917159",
     "exception": false,
     "start_time": "2021-06-26T10:20:02.882563",
     "status": "completed"
    },
    "tags": [
     "parameters"
    ]
   },
   "outputs": [],
   "source": [
    "a = 1\n",
    "b = 20"
   ]
  },
  {
   "cell_type": "code",
   "execution_count": 2,
   "id": "8f1f9139",
   "metadata": {
    "execution": {
     "iopub.execute_input": "2021-06-26T10:20:02.950729Z",
     "iopub.status.busy": "2021-06-26T10:20:02.948881Z",
     "iopub.status.idle": "2021-06-26T10:20:02.958795Z",
     "shell.execute_reply": "2021-06-26T10:20:02.955340Z"
    },
    "papermill": {
     "duration": 0.032345,
     "end_time": "2021-06-26T10:20:02.959866",
     "exception": false,
     "start_time": "2021-06-26T10:20:02.927521",
     "status": "completed"
    },
    "tags": [
     "injected-parameters"
    ]
   },
   "outputs": [],
   "source": [
    "# Parameters\n",
    "a = 0.6\n",
    "b = 0.1\n"
   ]
  },
  {
   "cell_type": "code",
   "execution_count": null,
   "id": "14a5130f-43a6-4326-b5c7-36b8e1bc4665",
   "metadata": {
    "papermill": {
     "duration": 0.01118,
     "end_time": "2021-06-26T10:20:02.987649",
     "exception": false,
     "start_time": "2021-06-26T10:20:02.976469",
     "status": "completed"
    },
    "tags": []
   },
   "outputs": [],
   "source": []
  },
  {
   "cell_type": "code",
   "execution_count": null,
   "id": "060763f1-9a74-4661-bcdc-342772ea1ee8",
   "metadata": {
    "papermill": {
     "duration": 0.011737,
     "end_time": "2021-06-26T10:20:03.008995",
     "exception": false,
     "start_time": "2021-06-26T10:20:02.997258",
     "status": "completed"
    },
    "tags": []
   },
   "outputs": [],
   "source": []
  }
 ],
 "metadata": {
  "kernelspec": {
   "display_name": "Python 3",
   "language": "python",
   "name": "python3"
  },
  "language_info": {
   "codemirror_mode": {
    "name": "ipython",
    "version": 3
   },
   "file_extension": ".py",
   "mimetype": "text/x-python",
   "name": "python",
   "nbconvert_exporter": "python",
   "pygments_lexer": "ipython3",
   "version": "3.8.5"
  },
  "papermill": {
   "default_parameters": {},
   "duration": 1.705269,
   "end_time": "2021-06-26T10:20:03.335823",
   "environment_variables": {},
   "exception": null,
   "input_path": "./input.ipynb",
   "output_path": "./output.ipynb",
   "parameters": {
    "a": 0.6,
    "b": 0.1
   },
   "start_time": "2021-06-26T10:20:01.630554",
   "version": "2.3.3"
  }
 },
 "nbformat": 4,
 "nbformat_minor": 5
}